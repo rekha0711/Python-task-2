{
 "cells": [
  {
   "cell_type": "markdown",
   "id": "9429fa29",
   "metadata": {},
   "source": [
    "###  `Task-2`\n",
    " `ID:SIRSS2131`\n",
    " `NAME-REKHA`"
   ]
  },
  {
   "cell_type": "markdown",
   "id": "d120757b",
   "metadata": {},
   "source": [
    "### `Q.1` `write a program to extract first word of a string using lamba function3`\n"
   ]
  },
  {
   "cell_type": "code",
   "execution_count": 1,
   "id": "04c9ad6a",
   "metadata": {},
   "outputs": [
    {
     "data": {
      "text/plain": [
       "'my'"
      ]
     },
     "execution_count": 1,
     "metadata": {},
     "output_type": "execute_result"
    }
   ],
   "source": [
    "a=\"my name is sinchan\"\n",
    "b= lambda x:x.split()[0]\n",
    "b(a)"
   ]
  },
  {
   "cell_type": "markdown",
   "id": "00fcf292",
   "metadata": {},
   "source": [
    "### `Q.2` `write a function to extract first word from the string`"
   ]
  },
  {
   "cell_type": "code",
   "execution_count": 2,
   "id": "cee03d27",
   "metadata": {},
   "outputs": [],
   "source": [
    "def strr(strrr):\n",
    "    return strrr.split()[0]\n"
   ]
  },
  {
   "cell_type": "code",
   "execution_count": 3,
   "id": "7c58decd",
   "metadata": {},
   "outputs": [
    {
     "data": {
      "text/plain": [
       "'my'"
      ]
     },
     "execution_count": 3,
     "metadata": {},
     "output_type": "execute_result"
    }
   ],
   "source": [
    "strr(a)"
   ]
  },
  {
   "cell_type": "markdown",
   "id": "e272aa05",
   "metadata": {},
   "source": [
    "### `Q.3` `Extract the first word from every string from a list of strings by using map function`\n"
   ]
  },
  {
   "cell_type": "code",
   "execution_count": 4,
   "id": "ecba50c3",
   "metadata": {},
   "outputs": [
    {
     "data": {
      "text/plain": [
       "['my', 'all', 'question']"
      ]
     },
     "execution_count": 4,
     "metadata": {},
     "output_type": "execute_result"
    }
   ],
   "source": [
    "strr=[\"my name is sinchan\",'all good things come to those who wait','question is bit confusing']\n",
    "list(map(lambda x:x.split()[0],strr))"
   ]
  },
  {
   "cell_type": "markdown",
   "id": "df291cdf",
   "metadata": {},
   "source": [
    "### `Q.4` `write a function to return a list of prime factors of a given number`\n"
   ]
  },
  {
   "cell_type": "code",
   "execution_count": 5,
   "id": "a3bbfc8d",
   "metadata": {},
   "outputs": [
    {
     "name": "stdout",
     "output_type": "stream",
     "text": [
      "Enter the number: 18\n",
      "[2, 3, 3]\n"
     ]
    }
   ],
   "source": [
    "def prime(x):\n",
    "    factors = []\n",
    "    i = 2\n",
    "    while i <= x:\n",
    "        if x%i == 0:\n",
    "            factors.append(i)\n",
    "            x = x/i \n",
    "        else:\n",
    "            i += 1 \n",
    "    return factors\n",
    "\n",
    "num = input('Enter the number: ')\n",
    "print(prime(int(num)))"
   ]
  },
  {
   "cell_type": "markdown",
   "id": "84e41870",
   "metadata": {},
   "source": [
    "### `Q.5` `write a function that to return 2nd max number from a list`\n"
   ]
  },
  {
   "cell_type": "code",
   "execution_count": 6,
   "id": "c49eade4",
   "metadata": {},
   "outputs": [
    {
     "name": "stdout",
     "output_type": "stream",
     "text": [
      "enter num7 8 9 7 6 2 4 1\n"
     ]
    },
    {
     "data": {
      "text/plain": [
       "8"
      ]
     },
     "execution_count": 6,
     "metadata": {},
     "output_type": "execute_result"
    }
   ],
   "source": [
    "def max_num(ls):\n",
    "    a=l\n",
    "    b=max(a)\n",
    "    a.remove(b)\n",
    "    b=max(a)\n",
    "    return b\n",
    "\n",
    "\n",
    "\n",
    "l=input(\"enter num\")\n",
    "l=l.split()\n",
    "l=list(map(int,l))\n",
    "max_num(l)\n"
   ]
  },
  {
   "cell_type": "code",
   "execution_count": null,
   "id": "0a7b1a98",
   "metadata": {},
   "outputs": [],
   "source": []
  }
 ],
 "metadata": {
  "kernelspec": {
   "display_name": "Python 3",
   "language": "python",
   "name": "python3"
  },
  "language_info": {
   "codemirror_mode": {
    "name": "ipython",
    "version": 3
   },
   "file_extension": ".py",
   "mimetype": "text/x-python",
   "name": "python",
   "nbconvert_exporter": "python",
   "pygments_lexer": "ipython3",
   "version": "3.8.8"
  }
 },
 "nbformat": 4,
 "nbformat_minor": 5
}
